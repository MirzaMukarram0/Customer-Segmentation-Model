{
 "cells": [
  {
   "cell_type": "code",
   "execution_count": null,
   "id": "070e9872",
   "metadata": {},
   "outputs": [],
   "source": [
    "from sklearn.preprocessing import StandardScaler\n",
    "from sklearn.cluster import KMeans, DBSCAN"
   ]
  },
  {
   "cell_type": "code",
   "execution_count": null,
   "id": "0e50bec6",
   "metadata": {},
   "outputs": [],
   "source": [
    "# Load dataset\n",
    "try:\n",
    "    mall_df = pd.read_csv(\"Mall_Customers.csv\")\n",
    "except:\n",
    "    # Synthetic dataset if not found\n",
    "    np.random.seed(42)\n",
    "    income = np.randoms.randint(20, 120, 200)\n",
    "    spending_score = np.random.randint(1, 100, 200)\n",
    "    mall_df = pd.DataFrame({\"Annual Income (k$)\": income, \"Spending Score (1-100)\": spending_score})\n",
    "\n",
    "print(mall_df.head())\n"
   ]
  },
  {
   "cell_type": "code",
   "execution_count": null,
   "id": "a9ff4a08",
   "metadata": {},
   "outputs": [],
   "source": [
    "# Select features\n",
    "X = mall_df[[\"Annual Income (k$)\", \"Spending Score (1-100)\"]]\n",
    "\n",
    "# Scale\n",
    "scaler = StandardScaler()\n",
    "X_scaled = scaler.fit_transform(X)"
   ]
  },
  {
   "cell_type": "code",
   "execution_count": null,
   "id": "9b626398",
   "metadata": {},
   "outputs": [],
   "source": [
    "# KMeans clustering\n",
    "inertia = []\n",
    "for k in range(1, 10):\n",
    "    kmeans = KMeans(n_clusters=k, random_state=42, n_init=10)\n",
    "    kmeans.fit(X_scaled)\n",
    "    inertia.append(kmeans.inertia_)"
   ]
  },
  {
   "cell_type": "code",
   "execution_count": null,
   "id": "e5ff83da",
   "metadata": {},
   "outputs": [],
   "source": [
    "plt.plot(range(1,10), inertia, marker='o')\n",
    "plt.xlabel(\"Number of clusters\")\n",
    "plt.ylabel(\"Inertia\")\n",
    "plt.title(\"Elbow Method for Optimal K\")\n",
    "plt.show()\n"
   ]
  }
 ],
 "metadata": {
  "language_info": {
   "name": "python"
  }
 },
 "nbformat": 4,
 "nbformat_minor": 5
}
