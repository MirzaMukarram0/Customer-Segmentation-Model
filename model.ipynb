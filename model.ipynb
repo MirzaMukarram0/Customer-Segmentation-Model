{
 "cells": [
  {
   "cell_type": "code",
   "execution_count": null,
   "id": "070e9872",
   "metadata": {},
   "outputs": [],
   "source": [
    "from sklearn.preprocessing import StandardScaler\n",
    "from sklearn.cluster import KMeans, DBSCAN"
   ]
  },
  {
   "cell_type": "code",
   "execution_count": null,
   "id": "0e50bec6",
   "metadata": {},
   "outputs": [],
   "source": [
    "# Load dataset\n",
    "try:\n",
    "    mall_df = pd.read_csv(\"Mall_Customers.csv\")\n",
    "except:\n",
    "    # Synthetic dataset if not found\n",
    "    np.random.seed(42)\n",
    "    income = np.randoms.randint(20, 120, 200)\n",
    "    spending_score = np.random.randint(1, 100, 200)\n",
    "    mall_df = pd.DataFrame({\"Annual Income (k$)\": income, \"Spending Score (1-100)\": spending_score})\n",
    "\n",
    "print(mall_df.head())\n"
   ]
  },
  {
   "cell_type": "code",
   "execution_count": null,
   "id": "a9ff4a08",
   "metadata": {},
   "outputs": [],
   "source": [
    "# Select features\n",
    "X = mall_df[[\"Annual Income (k$)\", \"Spending Score (1-100)\"]]\n",
    "\n",
    "# Scale\n",
    "scaler = StandardScaler()\n",
    "X_scaled = scaler.fit_transform(X)"
   ]
  },
  {
   "cell_type": "code",
   "execution_count": null,
   "id": "9b626398",
   "metadata": {},
   "outputs": [],
   "source": [
    "# KMeans clustering\n",
    "inertia = []\n",
    "for k in range(1, 10):\n",
    "    kmeans = KMeans(n_clusters=k, random_state=42, n_init=10)\n",
    "    kmeans.fit(X_scaled)\n",
    "    inertia.append(kmeans.inertia_)"
   ]
  },
  {
   "cell_type": "code",
   "execution_count": null,
   "id": "e5ff83da",
   "metadata": {},
   "outputs": [],
   "source": [
    "plt.plot(range(1,10), inertia, marker='o')\n",
    "plt.xlabel(\"Number of clusters\")\n",
    "plt.ylabel(\"Inertia\")\n",
    "plt.title(\"Elbow Method for Optimal K\")\n",
    "plt.show()\n"
   ]
  },
  {
   "cell_type": "code",
   "execution_count": null,
   "id": "43120743",
   "metadata": {},
   "outputs": [],
   "source": [
    "# Final KMeans\n",
    "kmeans = KMeans(n_clusters=5, random_state=42, n_init=10)\n",
    "clusters = kmeans.fit_predict(X_scaled)\n",
    "mall_df[\"Cluster\"] = clusters\n"
   ]
  },
  {
   "cell_type": "code",
   "execution_count": null,
   "id": "dcc5a960",
   "metadata": {},
   "outputs": [],
   "source": [
    "# Visualize clusters\n",
    "plt.scatter(mall_df[\"Annual Income (k$)\"], mall_df[\"Spending Score (1-100)\"], c=clusters, cmap=\"viridis\")\n",
    "plt.xlabel(\"Annual Income (k$)\")\n",
    "plt.ylabel(\"Spending Score (1-100)\")\n",
    "plt.title(\"Customer Segmentation (KMeans)\")\n",
    "plt.show()"
   ]
  },
  {
   "cell_type": "code",
   "execution_count": null,
   "id": "ce9c71ee",
   "metadata": {},
   "outputs": [],
   "source": [
    "# DBSCAN clustering (Bonus)\n",
    "dbscan = DBSCAN(eps=0.5, min_samples=5)\n",
    "mall_df[\"DBSCAN_Cluster\"] = dbscan.fit_predict(X_scaled)\n",
    "\n",
    "plt.scatter(mall_df[\"Annual Income (k$)\"], mall_df[\"Spending Score (1-100)\"], c=mall_df[\"DBSCAN_Cluster\"], cmap=\"rainbow\")\n",
    "plt.xlabel(\"Annual Income (k$)\")\n",
    "plt.ylabel(\"Spending Score (1-100)\")\n",
    "plt.title(\"Customer Segmentation (DBSCAN)\")\n",
    "plt.show()\n",
    "\n",
    "# Cluster analysis\n",
    "p"
   ]
  }
 ],
 "metadata": {
  "language_info": {
   "name": "python"
  }
 },
 "nbformat": 4,
 "nbformat_minor": 5
}
