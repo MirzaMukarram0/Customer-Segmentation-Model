{
 "cells": [
  {
   "cell_type": "code",
   "execution_count": null,
   "id": "070e9872",
   "metadata": {},
   "outputs": [],
   "source": [
    "from sklearn.preprocessing import StandardScaler\n",
    "from sklearn.cluster import KMeans, DBSCAN"
   ]
  },
  {
   "cell_type": "code",
   "execution_count": null,
   "id": "0e50bec6",
   "metadata": {},
   "outputs": [],
   "source": [
    "# Load dataset\n",
    "try:\n",
    "    mall_df = pd.read_csv(\"Mall_Customers.csv\")\n",
    "except:\n",
    "    # Synthetic dataset if not found\n",
    "    np.random.seed(42)\n",
    "    income = np.randoms.randint(20, 120, 200)\n",
    "    spending_score = np.random.randint(1, 100, 200)\n",
    "    mall_df = pd.DataFrame({\"Annual Income (k$)\": income, \"Spending Score (1-100)\": spending_score})\n",
    "\n",
    "print(mall_df.head())\n"
   ]
  },
  {
   "cell_type": "code",
   "execution_count": null,
   "id": "a9ff4a08",
   "metadata": {},
   "outputs": [],
   "source": []
  }
 ],
 "metadata": {
  "language_info": {
   "name": "python"
  }
 },
 "nbformat": 4,
 "nbformat_minor": 5
}
